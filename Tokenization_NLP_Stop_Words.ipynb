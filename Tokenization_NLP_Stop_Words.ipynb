{
  "nbformat": 4,
  "nbformat_minor": 0,
  "metadata": {
    "colab": {
      "name": "Tokenization_NLP_Stop_Words.ipynb",
      "provenance": [],
      "include_colab_link": true
    },
    "kernelspec": {
      "name": "python3",
      "display_name": "Python 3"
    }
  },
  "cells": [
    {
      "cell_type": "markdown",
      "metadata": {
        "id": "view-in-github",
        "colab_type": "text"
      },
      "source": [
        "<a href=\"https://colab.research.google.com/github/AngelineLawrence/Machine-Learning/blob/master/Tokenization_NLP_Stop_Words.ipynb\" target=\"_parent\"><img src=\"https://colab.research.google.com/assets/colab-badge.svg\" alt=\"Open In Colab\"/></a>"
      ]
    },
    {
      "cell_type": "code",
      "metadata": {
        "id": "zUT6pR3pgI-u",
        "colab_type": "code",
        "outputId": "20d1b53e-e0d9-4e2c-a48a-d9a0eddc80f7",
        "colab": {
          "base_uri": "https://localhost:8080/",
          "height": 68
        }
      },
      "source": [
        "#Tokenization\n",
        "#Two Types: WordTokenization,Sentence Tokenization\n",
        "import nltk\n",
        "nltk.download('punkt')"
      ],
      "execution_count": 1,
      "outputs": [
        {
          "output_type": "stream",
          "text": [
            "[nltk_data] Downloading package punkt to /root/nltk_data...\n",
            "[nltk_data]   Unzipping tokenizers/punkt.zip.\n"
          ],
          "name": "stdout"
        },
        {
          "output_type": "execute_result",
          "data": {
            "text/plain": [
              "True"
            ]
          },
          "metadata": {
            "tags": []
          },
          "execution_count": 1
        }
      ]
    },
    {
      "cell_type": "code",
      "metadata": {
        "id": "7z97cQ6jhSSP",
        "colab_type": "code",
        "colab": {}
      },
      "source": [
        "#Sentence Tokenization\n",
        "from nltk.tokenize import sent_tokenize"
      ],
      "execution_count": 0,
      "outputs": []
    },
    {
      "cell_type": "code",
      "metadata": {
        "id": "AhLeLHs5hiKU",
        "colab_type": "code",
        "colab": {}
      },
      "source": [
        "text=\"\"\"Hello Mrs. Jones, how are you doing today? Every cloud has a silver lining.\n",
        "The sky is beautiful and wide. She sells sea shells on the sea shore.\"\"\""
      ],
      "execution_count": 0,
      "outputs": []
    },
    {
      "cell_type": "code",
      "metadata": {
        "id": "CX0TPyZQiWid",
        "colab_type": "code",
        "outputId": "e62bbb9e-61f9-4a87-dc59-249c49ab01f4",
        "colab": {
          "base_uri": "https://localhost:8080/",
          "height": 54
        }
      },
      "source": [
        "tokenized_text=sent_tokenize(text)\n",
        "print(tokenized_text)"
      ],
      "execution_count": 4,
      "outputs": [
        {
          "output_type": "stream",
          "text": [
            "['Hello Mrs. Jones, how are you doing today?', 'Every cloud has a silver lining.', 'The sky is beautiful and wide.', 'She sells sea shells on the sea shore.']\n"
          ],
          "name": "stdout"
        }
      ]
    },
    {
      "cell_type": "code",
      "metadata": {
        "id": "HqJYmm1-iuWT",
        "colab_type": "code",
        "colab": {}
      },
      "source": [
        "#Word Tokenization\n",
        "from nltk.tokenize import word_tokenize"
      ],
      "execution_count": 0,
      "outputs": []
    },
    {
      "cell_type": "code",
      "metadata": {
        "id": "aLtXNQGtjqNs",
        "colab_type": "code",
        "outputId": "ec2d8f52-42b4-488d-945f-58fda330b6d1",
        "colab": {
          "base_uri": "https://localhost:8080/",
          "height": 71
        }
      },
      "source": [
        "words=[]\n",
        "for i in tokenized_text:\n",
        "  wordTest=word_tokenize(i)\n",
        "  for j in wordTest:\n",
        "    words.append(j)\n",
        "  \n",
        "print(words)\n",
        "print(len(words))"
      ],
      "execution_count": 6,
      "outputs": [
        {
          "output_type": "stream",
          "text": [
            "['Hello', 'Mrs.', 'Jones', ',', 'how', 'are', 'you', 'doing', 'today', '?', 'Every', 'cloud', 'has', 'a', 'silver', 'lining', '.', 'The', 'sky', 'is', 'beautiful', 'and', 'wide', '.', 'She', 'sells', 'sea', 'shells', 'on', 'the', 'sea', 'shore', '.']\n",
            "33\n"
          ],
          "name": "stdout"
        }
      ]
    },
    {
      "cell_type": "code",
      "metadata": {
        "id": "90Qun-OTkWSk",
        "colab_type": "code",
        "colab": {}
      },
      "source": [
        "#Frequescy Distribution\n",
        "from nltk.probability import FreqDist"
      ],
      "execution_count": 0,
      "outputs": []
    },
    {
      "cell_type": "code",
      "metadata": {
        "id": "uBqUZlMOlgiR",
        "colab_type": "code",
        "outputId": "e8aac0e2-10d6-44b9-c741-e8d9ac4ab0d0",
        "colab": {
          "base_uri": "https://localhost:8080/",
          "height": 34
        }
      },
      "source": [
        "freqDist=FreqDist(words)\n",
        "print(freqDist)"
      ],
      "execution_count": 8,
      "outputs": [
        {
          "output_type": "stream",
          "text": [
            "<FreqDist with 30 samples and 33 outcomes>\n"
          ],
          "name": "stdout"
        }
      ]
    },
    {
      "cell_type": "code",
      "metadata": {
        "id": "bjW4VmgUlmc6",
        "colab_type": "code",
        "outputId": "1bbd6ce5-f968-41e0-f857-c384760c1389",
        "colab": {
          "base_uri": "https://localhost:8080/",
          "height": 1000
        }
      },
      "source": [
        "for i in freqDist:\n",
        "  print(i)\n",
        "\n",
        "freqDist.most_common()"
      ],
      "execution_count": 9,
      "outputs": [
        {
          "output_type": "stream",
          "text": [
            "Hello\n",
            "Mrs.\n",
            "Jones\n",
            ",\n",
            "how\n",
            "are\n",
            "you\n",
            "doing\n",
            "today\n",
            "?\n",
            "Every\n",
            "cloud\n",
            "has\n",
            "a\n",
            "silver\n",
            "lining\n",
            ".\n",
            "The\n",
            "sky\n",
            "is\n",
            "beautiful\n",
            "and\n",
            "wide\n",
            "She\n",
            "sells\n",
            "sea\n",
            "shells\n",
            "on\n",
            "the\n",
            "shore\n"
          ],
          "name": "stdout"
        },
        {
          "output_type": "execute_result",
          "data": {
            "text/plain": [
              "[('.', 3),\n",
              " ('sea', 2),\n",
              " ('Hello', 1),\n",
              " ('Mrs.', 1),\n",
              " ('Jones', 1),\n",
              " (',', 1),\n",
              " ('how', 1),\n",
              " ('are', 1),\n",
              " ('you', 1),\n",
              " ('doing', 1),\n",
              " ('today', 1),\n",
              " ('?', 1),\n",
              " ('Every', 1),\n",
              " ('cloud', 1),\n",
              " ('has', 1),\n",
              " ('a', 1),\n",
              " ('silver', 1),\n",
              " ('lining', 1),\n",
              " ('The', 1),\n",
              " ('sky', 1),\n",
              " ('is', 1),\n",
              " ('beautiful', 1),\n",
              " ('and', 1),\n",
              " ('wide', 1),\n",
              " ('She', 1),\n",
              " ('sells', 1),\n",
              " ('shells', 1),\n",
              " ('on', 1),\n",
              " ('the', 1),\n",
              " ('shore', 1)]"
            ]
          },
          "metadata": {
            "tags": []
          },
          "execution_count": 9
        }
      ]
    },
    {
      "cell_type": "code",
      "metadata": {
        "id": "dUbJaMPXlunJ",
        "colab_type": "code",
        "colab": {}
      },
      "source": [
        "import matplotlib\n",
        "from matplotlib import pyplot as plt"
      ],
      "execution_count": 0,
      "outputs": []
    },
    {
      "cell_type": "code",
      "metadata": {
        "id": "WxRYT_BnmWjy",
        "colab_type": "code",
        "outputId": "7076c691-1966-472a-893f-49f8e6795b66",
        "colab": {
          "base_uri": "https://localhost:8080/",
          "height": 317
        }
      },
      "source": [
        "freqDist.plot(30,cumulative=False)"
      ],
      "execution_count": 11,
      "outputs": [
        {
          "output_type": "display_data",
          "data": {
            "image/png": "[encoded data removed]",
            "text/plain": [
              "<Figure size 432x288 with 1 Axes>"
            ]
          },
          "metadata": {
            "tags": []
          }
        }
      ]
    },
    {
      "cell_type": "code",
      "metadata": {
        "id": "XbHZBSaGnYoK",
        "colab_type": "code",
        "outputId": "3c919a60-f4b3-4e89-f10e-73d209676ad8",
        "colab": {
          "base_uri": "https://localhost:8080/",
          "height": 68
        }
      },
      "source": [
        "#Stop Words\n",
        "from nltk.corpus import stopwords\n",
        "nltk.download('stopwords')"
      ],
      "execution_count": 12,
      "outputs": [
        {
          "output_type": "stream",
          "text": [
            "[nltk_data] Downloading package stopwords to /root/nltk_data...\n",
            "[nltk_data]   Unzipping corpora/stopwords.zip.\n"
          ],
          "name": "stdout"
        },
        {
          "output_type": "execute_result",
          "data": {
            "text/plain": [
              "True"
            ]
          },
          "metadata": {
            "tags": []
          },
          "execution_count": 12
        }
      ]
    },
    {
      "cell_type": "code",
      "metadata": {
        "id": "qBRmoc0wPWUI",
        "colab_type": "code",
        "colab": {}
      },
      "source": [
        "stop_words=set(stopwords.words(\"english\"))"
      ],
      "execution_count": 0,
      "outputs": []
    },
    {
      "cell_type": "code",
      "metadata": {
        "id": "fiFlue5fPskr",
        "colab_type": "code",
        "outputId": "f9e76702-e146-4042-9d02-ae051a6ac3d4",
        "colab": {
          "base_uri": "https://localhost:8080/",
          "height": 71
        }
      },
      "source": [
        "print(stop_words)\n",
        "print(len(stop_words))"
      ],
      "execution_count": 14,
      "outputs": [
        {
          "output_type": "stream",
          "text": [
            "{'won', 'hers', 'in', 's', 'was', 'such', 'when', 'o', 'shouldn', 'should', 'wouldn', 'we', 'd', 'now', 'but', 'wasn', 'you', 'no', 'by', 'your', 'whom', 'been', 'until', 'with', 'a', \"weren't\", 'who', 'myself', 'from', 'were', 'what', 'has', 'so', 'does', 'that', 'where', 'once', 'i', 've', 'ma', \"couldn't\", 'its', 'themselves', \"mightn't\", 'below', 'only', 'again', 'is', 'into', 'ain', 'very', 'here', 'our', 'out', 'isn', 'herself', \"wouldn't\", 'as', 't', 'had', 'over', 're', 'weren', 'some', 'he', 'for', 'during', 'most', 'me', 'above', 'few', 'to', 'how', \"you're\", 'she', 'their', 'be', \"won't\", 'll', 'both', 'then', 'mustn', 'any', 'after', 'aren', \"hadn't\", 'there', 'down', 'can', \"mustn't\", 'they', 'y', \"doesn't\", \"haven't\", 'yourself', 'didn', 'yours', 'own', 'too', 'the', 'himself', 'my', 'through', 'needn', 'doesn', 'having', 'against', 'those', 'ourselves', 'of', 'hadn', 'nor', 'do', 'further', 'yourselves', 'because', \"needn't\", 'it', \"isn't\", 'm', 'between', 'couldn', 'him', 'am', \"should've\", 'up', 'don', 'more', \"didn't\", \"you'll\", 'off', 'this', 'theirs', 'just', \"she's\", 'or', \"wasn't\", 'are', 'each', 'if', 'all', 'being', 'these', 'her', 'same', 'have', \"hasn't\", 'and', \"it's\", 'which', 'on', 'shan', 'an', 'why', 'before', \"you've\", \"shan't\", 'about', 'doing', 'did', \"shouldn't\", 'while', \"aren't\", 'hasn', 'mightn', \"don't\", 'itself', 'not', 'haven', 'under', 'than', 'ours', \"you'd\", 'his', 'them', 'will', \"that'll\", 'at', 'other'}\n",
            "179\n"
          ],
          "name": "stdout"
        }
      ]
    },
    {
      "cell_type": "code",
      "metadata": {
        "id": "YGqUxoUqP1l7",
        "colab_type": "code",
        "outputId": "4a38ac1b-4c53-4884-b829-1ab570450e3d",
        "colab": {
          "base_uri": "https://localhost:8080/",
          "height": 85
        }
      },
      "source": [
        "tokenized_text"
      ],
      "execution_count": 15,
      "outputs": [
        {
          "output_type": "execute_result",
          "data": {
            "text/plain": [
              "['Hello Mrs. Jones, how are you doing today?',\n",
              " 'Every cloud has a silver lining.',\n",
              " 'The sky is beautiful and wide.',\n",
              " 'She sells sea shells on the sea shore.']"
            ]
          },
          "metadata": {
            "tags": []
          },
          "execution_count": 15
        }
      ]
    },
    {
      "cell_type": "code",
      "metadata": {
        "id": "8cRhY6gCdCTe",
        "colab_type": "code",
        "outputId": "a72d72a8-9a53-4dc8-9f2b-6db6ca22fb8b",
        "colab": {
          "base_uri": "https://localhost:8080/",
          "height": 105
        }
      },
      "source": [
        "after_removing_stop_words=[]\n",
        "stop_words_in_words=[]\n",
        "print(len(words))\n",
        "for i in words:\n",
        "  if i not in stop_words:\n",
        "    after_removing_stop_words.append(i)\n",
        "\n",
        "    \n",
        "for i in words:\n",
        "  if i  in stop_words:\n",
        "    stop_words_in_words.append(i)\n",
        "\n",
        "print(after_removing_stop_words)\n",
        "print(len(after_removing_stop_words))\n",
        "print(stop_words_in_words)"
      ],
      "execution_count": 16,
      "outputs": [
        {
          "output_type": "stream",
          "text": [
            "33\n",
            "['Hello', 'Mrs.', 'Jones', ',', 'today', '?', 'Every', 'cloud', 'silver', 'lining', '.', 'The', 'sky', 'beautiful', 'wide', '.', 'She', 'sells', 'sea', 'shells', 'sea', 'shore', '.']\n",
            "23\n",
            "['how', 'are', 'you', 'doing', 'has', 'a', 'is', 'and', 'on', 'the']\n"
          ],
          "name": "stdout"
        }
      ]
    },
    {
      "cell_type": "code",
      "metadata": {
        "id": "_8qjhlBwdenz",
        "colab_type": "code",
        "outputId": "ba52e48e-27ab-4af3-d010-db95f44b44c3",
        "colab": {
          "base_uri": "https://localhost:8080/",
          "height": 54
        }
      },
      "source": [
        "#Stemming - Reducing relates words to its simplest form by chopping off the derivational affixes\n",
        "from nltk.stem import PorterStemmer\n",
        "ps=PorterStemmer()\n",
        "stemmed_words=[]\n",
        "for w in after_removing_stop_words:\n",
        "  stemmed_words.append(ps.stem(w))\n",
        "\n",
        "print(stemmed_words)\n",
        "#Lexicon Normalization - Reducing relates words to its simplest Linguistically correct form\n",
        "\n"
      ],
      "execution_count": 17,
      "outputs": [
        {
          "output_type": "stream",
          "text": [
            "['hello', 'mrs.', 'jone', ',', 'today', '?', 'everi', 'cloud', 'silver', 'line', '.', 'the', 'sky', 'beauti', 'wide', '.', 'she', 'sell', 'sea', 'shell', 'sea', 'shore', '.']\n"
          ],
          "name": "stdout"
        }
      ]
    },
    {
      "cell_type": "code",
      "metadata": {
        "id": "WIVU-YALrGt1",
        "colab_type": "code",
        "outputId": "ae4b4941-fc2f-4321-e1ef-132128d6df81",
        "colab": {
          "base_uri": "https://localhost:8080/",
          "height": 85
        }
      },
      "source": [
        "from nltk.stem.wordnet import WordNetLemmatizer\n",
        "nltk.download('wordnet')\n",
        "lem=WordNetLemmatizer()\n",
        "w=\"flying\"\n",
        "\n",
        "print(\"Lemmatized Word: {}\".format(lem.lemmatize(w,'v')))\n",
        "print(\"Stemmated Word: {}\".format(ps.stem(w)))"
      ],
      "execution_count": 18,
      "outputs": [
        {
          "output_type": "stream",
          "text": [
            "[nltk_data] Downloading package wordnet to /root/nltk_data...\n",
            "[nltk_data]   Unzipping corpora/wordnet.zip.\n",
            "Lemmatized Word: fly\n",
            "Stemmated Word: fli\n"
          ],
          "name": "stdout"
        }
      ]
    },
    {
      "cell_type": "code",
      "metadata": {
        "id": "G85mCSp6teu9",
        "colab_type": "code",
        "outputId": "29c3b82d-1a82-4dcd-994c-659f264fdba9",
        "colab": {
          "base_uri": "https://localhost:8080/",
          "height": 85
        }
      },
      "source": [
        "#POS Tagging (Parts Of Speech Tagging)\n",
        "sent = \"Albert Einstein was born in Ulm, Germany in 1879.\"\n",
        "tokens= word_tokenize(sent)\n",
        "nltk.download('averaged_perceptron_tagger')"
      ],
      "execution_count": 19,
      "outputs": [
        {
          "output_type": "stream",
          "text": [
            "[nltk_data] Downloading package averaged_perceptron_tagger to\n",
            "[nltk_data]     /root/nltk_data...\n",
            "[nltk_data]   Unzipping taggers/averaged_perceptron_tagger.zip.\n"
          ],
          "name": "stdout"
        },
        {
          "output_type": "execute_result",
          "data": {
            "text/plain": [
              "True"
            ]
          },
          "metadata": {
            "tags": []
          },
          "execution_count": 19
        }
      ]
    },
    {
      "cell_type": "code",
      "metadata": {
        "id": "0kByFBSMvX7j",
        "colab_type": "code",
        "outputId": "9e0ba00f-9fd0-493f-8c87-31d03f13dd01",
        "colab": {
          "base_uri": "https://localhost:8080/",
          "height": 54
        }
      },
      "source": [
        "tagged_words=nltk.pos_tag(tokens)\n",
        "print(tagged_words)"
      ],
      "execution_count": 20,
      "outputs": [
        {
          "output_type": "stream",
          "text": [
            "[('Albert', 'NNP'), ('Einstein', 'NNP'), ('was', 'VBD'), ('born', 'VBN'), ('in', 'IN'), ('Ulm', 'NNP'), (',', ','), ('Germany', 'NNP'), ('in', 'IN'), ('1879', 'CD'), ('.', '.')]\n"
          ],
          "name": "stdout"
        }
      ]
    },
    {
      "cell_type": "code",
      "metadata": {
        "id": "viGsWohHviJc",
        "colab_type": "code",
        "colab": {}
      },
      "source": [
        ""
      ],
      "execution_count": 0,
      "outputs": []
    }
  ]
}