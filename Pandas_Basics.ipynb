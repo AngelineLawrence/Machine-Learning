{
  "nbformat": 4,
  "nbformat_minor": 0,
  "metadata": {
    "colab": {
      "name": "Pandas Basics.ipynb",
      "provenance": [],
      "collapsed_sections": [],
      "include_colab_link": true
    },
    "kernelspec": {
      "name": "python3",
      "display_name": "Python 3"
    }
  },
  "cells": [
    {
      "cell_type": "markdown",
      "metadata": {
        "id": "view-in-github",
        "colab_type": "text"
      },
      "source": [
        "<a href=\"https://colab.research.google.com/github/AngelineLawrence/Machine-Learning/blob/master/Pandas_Basics.ipynb\" target=\"_parent\"><img src=\"https://colab.research.google.com/assets/colab-badge.svg\" alt=\"Open In Colab\"/></a>"
      ]
    },
    {
      "cell_type": "code",
      "metadata": {
        "id": "mWbIUWqfxVqO",
        "colab_type": "code",
        "colab": {}
      },
      "source": [
        "import pandas as pd"
      ],
      "execution_count": 0,
      "outputs": []
    },
    {
      "cell_type": "code",
      "metadata": {
        "id": "fEiKOv2PxbXF",
        "colab_type": "code",
        "colab": {}
      },
      "source": [
        "#pandas can take in dictionary datatype and convert them as Dataframes\n",
        "dict={\"Name\":['Mark','Luke','John'],\"Age\":[28,34,30],\"Phone\":['1213412342','2356347873','6572349081']}"
      ],
      "execution_count": 0,
      "outputs": []
    },
    {
      "cell_type": "code",
      "metadata": {
        "id": "CM0Ih7xSyKbH",
        "colab_type": "code",
        "outputId": "40f9cdd8-952d-4660-d3a8-dedd87ac4ec6",
        "colab": {
          "base_uri": "https://localhost:8080/",
          "height": 210
        }
      },
      "source": [
        "#convert to dataframe, displays it with its own index if none are provided\n",
        "data=pd.DataFrame(dict)\n",
        "print(data)\n",
        "data"
      ],
      "execution_count": 0,
      "outputs": [
        {
          "output_type": "stream",
          "text": [
            "   Name  Age       Phone\n",
            "0  Mark   28  1213412342\n",
            "1  Luke   34  2356347873\n",
            "2  John   30  6572349081\n"
          ],
          "name": "stdout"
        },
        {
          "output_type": "execute_result",
          "data": {
            "text/html": [
              "<div>\n",
              "<style scoped>\n",
              "    .dataframe tbody tr th:only-of-type {\n",
              "        vertical-align: middle;\n",
              "    }\n",
              "\n",
              "    .dataframe tbody tr th {\n",
              "        vertical-align: top;\n",
              "    }\n",
              "\n",
              "    .dataframe thead th {\n",
              "        text-align: right;\n",
              "    }\n",
              "</style>\n",
              "<table border=\"1\" class=\"dataframe\">\n",
              "  <thead>\n",
              "    <tr style=\"text-align: right;\">\n",
              "      <th></th>\n",
              "      <th>Name</th>\n",
              "      <th>Age</th>\n",
              "      <th>Phone</th>\n",
              "    </tr>\n",
              "  </thead>\n",
              "  <tbody>\n",
              "    <tr>\n",
              "      <th>0</th>\n",
              "      <td>Mark</td>\n",
              "      <td>28</td>\n",
              "      <td>1213412342</td>\n",
              "    </tr>\n",
              "    <tr>\n",
              "      <th>1</th>\n",
              "      <td>Luke</td>\n",
              "      <td>34</td>\n",
              "      <td>2356347873</td>\n",
              "    </tr>\n",
              "    <tr>\n",
              "      <th>2</th>\n",
              "      <td>John</td>\n",
              "      <td>30</td>\n",
              "      <td>6572349081</td>\n",
              "    </tr>\n",
              "  </tbody>\n",
              "</table>\n",
              "</div>"
            ],
            "text/plain": [
              "   Name  Age       Phone\n",
              "0  Mark   28  1213412342\n",
              "1  Luke   34  2356347873\n",
              "2  John   30  6572349081"
            ]
          },
          "metadata": {
            "tags": []
          },
          "execution_count": 3
        }
      ]
    },
    {
      "cell_type": "code",
      "metadata": {
        "id": "YT6EN1s8zVhj",
        "colab_type": "code",
        "outputId": "f7ad8bf3-8925-4b8d-c96e-8835ef87f5a3",
        "colab": {
          "base_uri": "https://localhost:8080/",
          "height": 142
        }
      },
      "source": [
        "#Setting index\n",
        "data.index=['0','1','2']\n",
        "data\n"
      ],
      "execution_count": 0,
      "outputs": [
        {
          "output_type": "execute_result",
          "data": {
            "text/html": [
              "<div>\n",
              "<style scoped>\n",
              "    .dataframe tbody tr th:only-of-type {\n",
              "        vertical-align: middle;\n",
              "    }\n",
              "\n",
              "    .dataframe tbody tr th {\n",
              "        vertical-align: top;\n",
              "    }\n",
              "\n",
              "    .dataframe thead th {\n",
              "        text-align: right;\n",
              "    }\n",
              "</style>\n",
              "<table border=\"1\" class=\"dataframe\">\n",
              "  <thead>\n",
              "    <tr style=\"text-align: right;\">\n",
              "      <th></th>\n",
              "      <th>Name</th>\n",
              "      <th>Age</th>\n",
              "      <th>Phone</th>\n",
              "    </tr>\n",
              "  </thead>\n",
              "  <tbody>\n",
              "    <tr>\n",
              "      <th>0</th>\n",
              "      <td>Mark</td>\n",
              "      <td>28</td>\n",
              "      <td>1213412342</td>\n",
              "    </tr>\n",
              "    <tr>\n",
              "      <th>1</th>\n",
              "      <td>Luke</td>\n",
              "      <td>34</td>\n",
              "      <td>2356347873</td>\n",
              "    </tr>\n",
              "    <tr>\n",
              "      <th>2</th>\n",
              "      <td>John</td>\n",
              "      <td>30</td>\n",
              "      <td>6572349081</td>\n",
              "    </tr>\n",
              "  </tbody>\n",
              "</table>\n",
              "</div>"
            ],
            "text/plain": [
              "   Name  Age       Phone\n",
              "0  Mark   28  1213412342\n",
              "1  Luke   34  2356347873\n",
              "2  John   30  6572349081"
            ]
          },
          "metadata": {
            "tags": []
          },
          "execution_count": 4
        }
      ]
    },
    {
      "cell_type": "code",
      "metadata": {
        "id": "tuJ7EdO71Bj1",
        "colab_type": "code",
        "outputId": "251de1a0-d234-4995-f670-0b6531a816a3",
        "colab": {
          "base_uri": "https://localhost:8080/",
          "height": 221
        }
      },
      "source": [
        "#reading csv\n",
        "#data2=pd.reas_csv('csv file / cloud url',index_col=0)\n",
        "\n",
        "#Retrieve columns from dataframe\n",
        "print(data['Name'])\n",
        "print(data[['Name','Phone']])\n",
        "print(data[['Name','Phone','Age']])"
      ],
      "execution_count": 0,
      "outputs": [
        {
          "output_type": "stream",
          "text": [
            "0    Mark\n",
            "1    Luke\n",
            "2    John\n",
            "Name: Name, dtype: object\n",
            "   Name       Phone\n",
            "0  Mark  1213412342\n",
            "1  Luke  2356347873\n",
            "2  John  6572349081\n",
            "   Name       Phone  Age\n",
            "0  Mark  1213412342   28\n",
            "1  Luke  2356347873   34\n",
            "2  John  6572349081   30\n"
          ],
          "name": "stdout"
        }
      ]
    },
    {
      "cell_type": "code",
      "metadata": {
        "id": "pHKW8NA-4T0v",
        "colab_type": "code",
        "outputId": "388b6028-78d7-4a7d-9524-fd6bbc49b9c7",
        "colab": {
          "base_uri": "https://localhost:8080/",
          "height": 80
        }
      },
      "source": [
        "#Printing rows/observstions\n",
        "data[0:1]#prints the first record\n"
      ],
      "execution_count": 0,
      "outputs": [
        {
          "output_type": "execute_result",
          "data": {
            "text/html": [
              "<div>\n",
              "<style scoped>\n",
              "    .dataframe tbody tr th:only-of-type {\n",
              "        vertical-align: middle;\n",
              "    }\n",
              "\n",
              "    .dataframe tbody tr th {\n",
              "        vertical-align: top;\n",
              "    }\n",
              "\n",
              "    .dataframe thead th {\n",
              "        text-align: right;\n",
              "    }\n",
              "</style>\n",
              "<table border=\"1\" class=\"dataframe\">\n",
              "  <thead>\n",
              "    <tr style=\"text-align: right;\">\n",
              "      <th></th>\n",
              "      <th>Name</th>\n",
              "      <th>Age</th>\n",
              "      <th>Phone</th>\n",
              "    </tr>\n",
              "  </thead>\n",
              "  <tbody>\n",
              "    <tr>\n",
              "      <th>0</th>\n",
              "      <td>Mark</td>\n",
              "      <td>28</td>\n",
              "      <td>1213412342</td>\n",
              "    </tr>\n",
              "  </tbody>\n",
              "</table>\n",
              "</div>"
            ],
            "text/plain": [
              "   Name  Age       Phone\n",
              "0  Mark   28  1213412342"
            ]
          },
          "metadata": {
            "tags": []
          },
          "execution_count": 6
        }
      ]
    },
    {
      "cell_type": "code",
      "metadata": {
        "id": "MDyXHBA15UfD",
        "colab_type": "code",
        "outputId": "b437f2b0-1989-447d-a7cd-639f5569acba",
        "colab": {
          "base_uri": "https://localhost:8080/",
          "height": 85
        }
      },
      "source": [
        "#Labelled Indexing\n",
        "data.loc['0']"
      ],
      "execution_count": 0,
      "outputs": [
        {
          "output_type": "execute_result",
          "data": {
            "text/plain": [
              "Name           Mark\n",
              "Age              28\n",
              "Phone    1213412342\n",
              "Name: 0, dtype: object"
            ]
          },
          "metadata": {
            "tags": []
          },
          "execution_count": 7
        }
      ]
    },
    {
      "cell_type": "code",
      "metadata": {
        "id": "7zDOj1tp6z33",
        "colab_type": "code",
        "outputId": "5608bb5e-ca54-4fb5-fc59-813e87955e85",
        "colab": {
          "base_uri": "https://localhost:8080/",
          "height": 85
        }
      },
      "source": [
        "#Integer Indexing\n",
        "data.iloc[0]"
      ],
      "execution_count": 0,
      "outputs": [
        {
          "output_type": "execute_result",
          "data": {
            "text/plain": [
              "Name           Mark\n",
              "Age              28\n",
              "Phone    1213412342\n",
              "Name: 0, dtype: object"
            ]
          },
          "metadata": {
            "tags": []
          },
          "execution_count": 8
        }
      ]
    },
    {
      "cell_type": "code",
      "metadata": {
        "id": "1oTXQA4k7ArY",
        "colab_type": "code",
        "outputId": "abd00381-419f-4539-8b98-f8c5cde401fb",
        "colab": {
          "base_uri": "https://localhost:8080/",
          "height": 111
        }
      },
      "source": [
        "#Label Indexing: Row values\n",
        "data.loc[['0','1']]"
      ],
      "execution_count": 0,
      "outputs": [
        {
          "output_type": "execute_result",
          "data": {
            "text/html": [
              "<div>\n",
              "<style scoped>\n",
              "    .dataframe tbody tr th:only-of-type {\n",
              "        vertical-align: middle;\n",
              "    }\n",
              "\n",
              "    .dataframe tbody tr th {\n",
              "        vertical-align: top;\n",
              "    }\n",
              "\n",
              "    .dataframe thead th {\n",
              "        text-align: right;\n",
              "    }\n",
              "</style>\n",
              "<table border=\"1\" class=\"dataframe\">\n",
              "  <thead>\n",
              "    <tr style=\"text-align: right;\">\n",
              "      <th></th>\n",
              "      <th>Name</th>\n",
              "      <th>Age</th>\n",
              "      <th>Phone</th>\n",
              "    </tr>\n",
              "  </thead>\n",
              "  <tbody>\n",
              "    <tr>\n",
              "      <th>0</th>\n",
              "      <td>Mark</td>\n",
              "      <td>28</td>\n",
              "      <td>1213412342</td>\n",
              "    </tr>\n",
              "    <tr>\n",
              "      <th>1</th>\n",
              "      <td>Luke</td>\n",
              "      <td>34</td>\n",
              "      <td>2356347873</td>\n",
              "    </tr>\n",
              "  </tbody>\n",
              "</table>\n",
              "</div>"
            ],
            "text/plain": [
              "   Name  Age       Phone\n",
              "0  Mark   28  1213412342\n",
              "1  Luke   34  2356347873"
            ]
          },
          "metadata": {
            "tags": []
          },
          "execution_count": 9
        }
      ]
    },
    {
      "cell_type": "code",
      "metadata": {
        "id": "IuhV0Y6U8meP",
        "colab_type": "code",
        "outputId": "deb02205-53f0-48f5-a780-49b41bfcef9e",
        "colab": {
          "base_uri": "https://localhost:8080/",
          "height": 111
        }
      },
      "source": [
        "#Integer Indexing: Row values\n",
        "data.iloc[['0','1']]"
      ],
      "execution_count": 0,
      "outputs": [
        {
          "output_type": "execute_result",
          "data": {
            "text/html": [
              "<div>\n",
              "<style scoped>\n",
              "    .dataframe tbody tr th:only-of-type {\n",
              "        vertical-align: middle;\n",
              "    }\n",
              "\n",
              "    .dataframe tbody tr th {\n",
              "        vertical-align: top;\n",
              "    }\n",
              "\n",
              "    .dataframe thead th {\n",
              "        text-align: right;\n",
              "    }\n",
              "</style>\n",
              "<table border=\"1\" class=\"dataframe\">\n",
              "  <thead>\n",
              "    <tr style=\"text-align: right;\">\n",
              "      <th></th>\n",
              "      <th>Name</th>\n",
              "      <th>Age</th>\n",
              "      <th>Phone</th>\n",
              "    </tr>\n",
              "  </thead>\n",
              "  <tbody>\n",
              "    <tr>\n",
              "      <th>0</th>\n",
              "      <td>Mark</td>\n",
              "      <td>28</td>\n",
              "      <td>1213412342</td>\n",
              "    </tr>\n",
              "    <tr>\n",
              "      <th>1</th>\n",
              "      <td>Luke</td>\n",
              "      <td>34</td>\n",
              "      <td>2356347873</td>\n",
              "    </tr>\n",
              "  </tbody>\n",
              "</table>\n",
              "</div>"
            ],
            "text/plain": [
              "   Name  Age       Phone\n",
              "0  Mark   28  1213412342\n",
              "1  Luke   34  2356347873"
            ]
          },
          "metadata": {
            "tags": []
          },
          "execution_count": 10
        }
      ]
    },
    {
      "cell_type": "code",
      "metadata": {
        "id": "aoGaYsoy9P9S",
        "colab_type": "code",
        "outputId": "e5c7c3df-0721-40a4-a087-6ef86a2c44d0",
        "colab": {
          "base_uri": "https://localhost:8080/",
          "height": 187
        }
      },
      "source": [
        "#Integer Indexing iloc\n",
        "\n",
        "#All rows(:) [comma separated Index of the columns]\n",
        "print(data.iloc[:,[1,2]])\n",
        "\n",
        "#Row numbers 1 & 2\n",
        "print(data.iloc[[1,2]])\n",
        "\n",
        "#All rows except the last one , [Comma separated Index of columns]\n",
        "print(data.iloc[:-1,[1,2]])"
      ],
      "execution_count": 0,
      "outputs": [
        {
          "output_type": "stream",
          "text": [
            "   Age       Phone\n",
            "0   28  1213412342\n",
            "1   34  2356347873\n",
            "2   30  6572349081\n",
            "   Name  Age       Phone\n",
            "1  Luke   34  2356347873\n",
            "2  John   30  6572349081\n",
            "   Age       Phone\n",
            "0   28  1213412342\n",
            "1   34  2356347873\n"
          ],
          "name": "stdout"
        }
      ]
    },
    {
      "cell_type": "code",
      "metadata": {
        "id": "Cfp1MuNw_8uC",
        "colab_type": "code",
        "colab": {}
      },
      "source": [
        "#Adding Columns with data\n",
        "\n",
        "#As a list\n",
        "address_list=['Texas','New York','Seattle']\n",
        "\n",
        "#As a dict\n",
        "address_dict={'Texas':'Mark','New York':'Luke', 'Seattle':'John'}\n",
        "\n",
        "data['Address_dict']=address_dict\n",
        "data['Address_list']=address_list\n",
        "\n"
      ],
      "execution_count": 0,
      "outputs": []
    },
    {
      "cell_type": "code",
      "metadata": {
        "id": "5O9g_im6DZ67",
        "colab_type": "code",
        "outputId": "d758d837-5685-4bf2-e48b-00c2379b79d0",
        "colab": {
          "base_uri": "https://localhost:8080/",
          "height": 142
        }
      },
      "source": [
        "data"
      ],
      "execution_count": 0,
      "outputs": [
        {
          "output_type": "execute_result",
          "data": {
            "text/html": [
              "<div>\n",
              "<style scoped>\n",
              "    .dataframe tbody tr th:only-of-type {\n",
              "        vertical-align: middle;\n",
              "    }\n",
              "\n",
              "    .dataframe tbody tr th {\n",
              "        vertical-align: top;\n",
              "    }\n",
              "\n",
              "    .dataframe thead th {\n",
              "        text-align: right;\n",
              "    }\n",
              "</style>\n",
              "<table border=\"1\" class=\"dataframe\">\n",
              "  <thead>\n",
              "    <tr style=\"text-align: right;\">\n",
              "      <th></th>\n",
              "      <th>Name</th>\n",
              "      <th>Age</th>\n",
              "      <th>Phone</th>\n",
              "      <th>Address_dict</th>\n",
              "      <th>Address_list</th>\n",
              "    </tr>\n",
              "  </thead>\n",
              "  <tbody>\n",
              "    <tr>\n",
              "      <th>0</th>\n",
              "      <td>Mark</td>\n",
              "      <td>28</td>\n",
              "      <td>1213412342</td>\n",
              "      <td>Texas</td>\n",
              "      <td>Texas</td>\n",
              "    </tr>\n",
              "    <tr>\n",
              "      <th>1</th>\n",
              "      <td>Luke</td>\n",
              "      <td>34</td>\n",
              "      <td>2356347873</td>\n",
              "      <td>New York</td>\n",
              "      <td>New York</td>\n",
              "    </tr>\n",
              "    <tr>\n",
              "      <th>2</th>\n",
              "      <td>John</td>\n",
              "      <td>30</td>\n",
              "      <td>6572349081</td>\n",
              "      <td>Seattle</td>\n",
              "      <td>Seattle</td>\n",
              "    </tr>\n",
              "  </tbody>\n",
              "</table>\n",
              "</div>"
            ],
            "text/plain": [
              "   Name  Age       Phone Address_dict Address_list\n",
              "0  Mark   28  1213412342        Texas        Texas\n",
              "1  Luke   34  2356347873     New York     New York\n",
              "2  John   30  6572349081      Seattle      Seattle"
            ]
          },
          "metadata": {
            "tags": []
          },
          "execution_count": 13
        }
      ]
    },
    {
      "cell_type": "code",
      "metadata": {
        "id": "q6qKn48RJz-1",
        "colab_type": "code",
        "outputId": "0e1e95bd-edfb-4e89-f440-f5beb974899a",
        "colab": {
          "base_uri": "https://localhost:8080/",
          "height": 1000
        }
      },
      "source": [
        "#Adding a column\n",
        "data[\"Hourly Salary\"]=[30,28,34]\n",
        "\n",
        "#Change Name of a column\n",
        "\n",
        "\n",
        "\n",
        "#.columns\n",
        "print(\"data.columns :\")\n",
        "print(data.columns)\n",
        "\n",
        "#.head(n) Displays first n rows\n",
        "print(\"data.head() :\")\n",
        "print(data.head())\n",
        "\n",
        "#.tail(n) Displays last n rows\n",
        "print(\"data.tail() : \")\n",
        "print(data.tail())\n",
        "\n",
        "#.describe Retuens Statistical Details about the data\n",
        "print(\"data.describe() :\")\n",
        "print(data.describe())\n",
        "\n",
        "#.info()\n",
        "print(\"data.info():\")\n",
        "print(data.info())\n",
        "\n",
        "#.mean()\n",
        "print(\"data.mean() : \")\n",
        "print(data.mean())\n",
        "\n",
        "#.min()\n",
        "print(\"data.min() : \")\n",
        "print(data.min())\n",
        "\n",
        "#.max()\n",
        "print(\"data.max() : \")\n",
        "print(data.max())\n",
        "\n",
        "#.median()\n",
        "print(\"data.median() : \")\n",
        "print(data.median())\n",
        "\n",
        "#.mode()\n",
        "print(\"data.mode() : \")\n",
        "print(data.mode())\n",
        "\n",
        "#.corr Correlation between columns in the dataframe\n",
        "print(\"data.corr() :\")\n",
        "print(data.corr())\n",
        "\n"
      ],
      "execution_count": 0,
      "outputs": [
        {
          "output_type": "stream",
          "text": [
            "data.columns :\n",
            "Index(['Name', 'Age', 'Phone', 'Address_dict', 'Address_list',\n",
            "       'Hourly Salary'],\n",
            "      dtype='object')\n",
            "data.head() :\n",
            "   Name  Age       Phone Address_dict Address_list  Hourly Salary\n",
            "0  Mark   28  1213412342        Texas        Texas             30\n",
            "1  Luke   34  2356347873     New York     New York             28\n",
            "2  John   30  6572349081      Seattle      Seattle             34\n",
            "data.tail() : \n",
            "   Name  Age       Phone Address_dict Address_list  Hourly Salary\n",
            "0  Mark   28  1213412342        Texas        Texas             30\n",
            "1  Luke   34  2356347873     New York     New York             28\n",
            "2  John   30  6572349081      Seattle      Seattle             34\n",
            "data.describe() :\n",
            "             Age  Hourly Salary\n",
            "count   3.000000       3.000000\n",
            "mean   30.666667      30.666667\n",
            "std     3.055050       3.055050\n",
            "min    28.000000      28.000000\n",
            "25%    29.000000      29.000000\n",
            "50%    30.000000      30.000000\n",
            "75%    32.000000      32.000000\n",
            "max    34.000000      34.000000\n",
            "data.info():\n",
            "<class 'pandas.core.frame.DataFrame'>\n",
            "Index: 3 entries, 0 to 2\n",
            "Data columns (total 6 columns):\n",
            "Name             3 non-null object\n",
            "Age              3 non-null int64\n",
            "Phone            3 non-null object\n",
            "Address_dict     3 non-null object\n",
            "Address_list     3 non-null object\n",
            "Hourly Salary    3 non-null int64\n",
            "dtypes: int64(2), object(4)\n",
            "memory usage: 248.0+ bytes\n",
            "None\n",
            "data.mean() : \n",
            "Age              30.666667\n",
            "Hourly Salary    30.666667\n",
            "dtype: float64\n",
            "data.min() : \n",
            "Name                   John\n",
            "Age                      28\n",
            "Phone            1213412342\n",
            "Address_dict       New York\n",
            "Address_list       New York\n",
            "Hourly Salary            28\n",
            "dtype: object\n",
            "data.max() : \n",
            "Name                   Mark\n",
            "Age                      34\n",
            "Phone            6572349081\n",
            "Address_dict          Texas\n",
            "Address_list          Texas\n",
            "Hourly Salary            34\n",
            "dtype: object\n",
            "data.median() : \n",
            "Age              30.0\n",
            "Hourly Salary    30.0\n",
            "dtype: float64\n",
            "data.mode() : \n",
            "   Name  Age       Phone Address_dict Address_list  Hourly Salary\n",
            "0  John   28  1213412342     New York     New York             28\n",
            "1  Luke   30  2356347873      Seattle      Seattle             30\n",
            "2  Mark   34  6572349081        Texas        Texas             34\n",
            "data.corr() :\n",
            "               Age  Hourly Salary\n",
            "Age            1.0           -0.5\n",
            "Hourly Salary -0.5            1.0\n"
          ],
          "name": "stdout"
        }
      ]
    },
    {
      "cell_type": "code",
      "metadata": {
        "id": "wCWpkzhRKloT",
        "colab_type": "code",
        "outputId": "76abc8cd-271a-42b2-c906-0eb445576468",
        "colab": {
          "base_uri": "https://localhost:8080/",
          "height": 235
        }
      },
      "source": [
        "#Merging Dataframes\n",
        "\n",
        "dict2={\"Name\":['James','Paul','Peter'],\"Age\":[38,24,40],\"Phone\":['121325622342','92536347873','65723491531']}\n",
        "address_dict={'Texas':'Paul','New York':'James', 'Seattle':'Peter'}\n",
        "address_list=['Texas','New York','Seattle']\n",
        "data2=pd.DataFrame(dict2)\n",
        "data2[\"Address_dict\"]=address_dict\n",
        "data2[\"Address_list\"]=address_list\n",
        "data2[\"Hourly Salary\"]=[50,82,45]\n",
        "data2\n",
        "\n",
        "#Merge Portion\n",
        "Merged_data=pd.concat([data,data2], ignore_index=True)\n",
        "Merged_data\n",
        "\n",
        "#Merge Variants, optional arguments\n",
        "#Merged_data=pd.merge([data,data2], on='Col_name, Eg: Address_list', how='inner/outer/..', left_on='Col_name', right_on='Col_name')\n",
        "#data.join(data2,on='col_name',how='inner') "
      ],
      "execution_count": 0,
      "outputs": [
        {
          "output_type": "execute_result",
          "data": {
            "text/html": [
              "<div>\n",
              "<style scoped>\n",
              "    .dataframe tbody tr th:only-of-type {\n",
              "        vertical-align: middle;\n",
              "    }\n",
              "\n",
              "    .dataframe tbody tr th {\n",
              "        vertical-align: top;\n",
              "    }\n",
              "\n",
              "    .dataframe thead th {\n",
              "        text-align: right;\n",
              "    }\n",
              "</style>\n",
              "<table border=\"1\" class=\"dataframe\">\n",
              "  <thead>\n",
              "    <tr style=\"text-align: right;\">\n",
              "      <th></th>\n",
              "      <th>Name</th>\n",
              "      <th>Age</th>\n",
              "      <th>Phone</th>\n",
              "      <th>Address_dict</th>\n",
              "      <th>Address_list</th>\n",
              "      <th>Hourly Salary</th>\n",
              "    </tr>\n",
              "  </thead>\n",
              "  <tbody>\n",
              "    <tr>\n",
              "      <th>0</th>\n",
              "      <td>Mark</td>\n",
              "      <td>28</td>\n",
              "      <td>1213412342</td>\n",
              "      <td>Texas</td>\n",
              "      <td>Texas</td>\n",
              "      <td>30</td>\n",
              "    </tr>\n",
              "    <tr>\n",
              "      <th>1</th>\n",
              "      <td>Luke</td>\n",
              "      <td>34</td>\n",
              "      <td>2356347873</td>\n",
              "      <td>New York</td>\n",
              "      <td>New York</td>\n",
              "      <td>28</td>\n",
              "    </tr>\n",
              "    <tr>\n",
              "      <th>2</th>\n",
              "      <td>John</td>\n",
              "      <td>30</td>\n",
              "      <td>6572349081</td>\n",
              "      <td>Seattle</td>\n",
              "      <td>Seattle</td>\n",
              "      <td>34</td>\n",
              "    </tr>\n",
              "    <tr>\n",
              "      <th>3</th>\n",
              "      <td>James</td>\n",
              "      <td>38</td>\n",
              "      <td>121325622342</td>\n",
              "      <td>Texas</td>\n",
              "      <td>Texas</td>\n",
              "      <td>50</td>\n",
              "    </tr>\n",
              "    <tr>\n",
              "      <th>4</th>\n",
              "      <td>Paul</td>\n",
              "      <td>24</td>\n",
              "      <td>92536347873</td>\n",
              "      <td>New York</td>\n",
              "      <td>New York</td>\n",
              "      <td>82</td>\n",
              "    </tr>\n",
              "    <tr>\n",
              "      <th>5</th>\n",
              "      <td>Peter</td>\n",
              "      <td>40</td>\n",
              "      <td>65723491531</td>\n",
              "      <td>Seattle</td>\n",
              "      <td>Seattle</td>\n",
              "      <td>45</td>\n",
              "    </tr>\n",
              "  </tbody>\n",
              "</table>\n",
              "</div>"
            ],
            "text/plain": [
              "    Name  Age         Phone Address_dict Address_list  Hourly Salary\n",
              "0   Mark   28    1213412342        Texas        Texas             30\n",
              "1   Luke   34    2356347873     New York     New York             28\n",
              "2   John   30    6572349081      Seattle      Seattle             34\n",
              "3  James   38  121325622342        Texas        Texas             50\n",
              "4   Paul   24   92536347873     New York     New York             82\n",
              "5  Peter   40   65723491531      Seattle      Seattle             45"
            ]
          },
          "metadata": {
            "tags": []
          },
          "execution_count": 15
        }
      ]
    },
    {
      "cell_type": "code",
      "metadata": {
        "id": "lPMjmX7kQkah",
        "colab_type": "code",
        "outputId": "c2ef4abb-38f0-4766-9a5b-0445a2e9bdc1",
        "colab": {
          "base_uri": "https://localhost:8080/",
          "height": 408
        }
      },
      "source": [
        "#Group By\n",
        "print(Merged_data.groupby(['Address_list']).mean())\n",
        "print(Merged_data.groupby(['Address_list','Age']).mean())\n",
        "\n",
        "#Sorting Values, Sorts the entire dataframe based on the column selected\n",
        "print(Merged_data.sort_values('Age'))\n",
        "print(Merged_data.sort_values('Age').mean())\n"
      ],
      "execution_count": 0,
      "outputs": [
        {
          "output_type": "stream",
          "text": [
            "               Age  Hourly Salary\n",
            "Address_list                     \n",
            "New York      29.0           55.0\n",
            "Seattle       35.0           39.5\n",
            "Texas         33.0           40.0\n",
            "                  Hourly Salary\n",
            "Address_list Age               \n",
            "New York     24              82\n",
            "             34              28\n",
            "Seattle      30              34\n",
            "             40              45\n",
            "Texas        28              30\n",
            "             38              50\n",
            "    Name  Age         Phone Address_dict Address_list  Hourly Salary\n",
            "4   Paul   24   92536347873     New York     New York             82\n",
            "0   Mark   28    1213412342        Texas        Texas             30\n",
            "2   John   30    6572349081      Seattle      Seattle             34\n",
            "1   Luke   34    2356347873     New York     New York             28\n",
            "3  James   38  121325622342        Texas        Texas             50\n",
            "5  Peter   40   65723491531      Seattle      Seattle             45\n",
            "Age              32.333333\n",
            "Hourly Salary    44.833333\n",
            "dtype: float64\n"
          ],
          "name": "stdout"
        }
      ]
    },
    {
      "cell_type": "code",
      "metadata": {
        "id": "7KuLHvhDSvKk",
        "colab_type": "code",
        "colab": {}
      },
      "source": [
        ""
      ],
      "execution_count": 0,
      "outputs": []
    }
  ]
}