{
  "nbformat": 4,
  "nbformat_minor": 0,
  "metadata": {
    "colab": {
      "name": "Pandas Basics.ipynb",
      "provenance": [],
      "collapsed_sections": [],
      "include_colab_link": true
    },
    "kernelspec": {
      "name": "python3",
      "display_name": "Python 3"
    }
  },
  "cells": [
    {
      "cell_type": "markdown",
      "metadata": {
        "id": "view-in-github",
        "colab_type": "text"
      },
      "source": [
        "<a href=\"https://colab.research.google.com/github/AngelineLawrence/Machine-Learning/blob/master/Pandas_Basics.ipynb\" target=\"_parent\"><img src=\"https://colab.research.google.com/assets/colab-badge.svg\" alt=\"Open In Colab\"/></a>"
      ]
    },
    {
      "cell_type": "code",
      "metadata": {
        "id": "mWbIUWqfxVqO",
        "colab_type": "code",
        "colab": {}
      },
      "source": [
        "import pandas as pd"
      ],
      "execution_count": 0,
      "outputs": []
    },
    {
      "cell_type": "code",
      "metadata": {
        "id": "fEiKOv2PxbXF",
        "colab_type": "code",
        "colab": {}
      },
      "source": [
        "#pandas can take in dictionary datatype and convert them as Dataframes\n",
        "dict={\"Name\":['Mark','Luke','John'],\"Age\":[28,34,30],\"Phone\":['1213412342','2356347873','6572349081']}"
      ],
      "execution_count": 0,
      "outputs": []
    },
    {
      "cell_type": "code",
      "metadata": {
        "id": "CM0Ih7xSyKbH",
        "colab_type": "code",
        "colab": {}
      },
      "source": [
        "#convert to dataframe, displays it with its own index if none are provided\n",
        "data=pd.DataFrame(dict)\n",
        "print(data)\n",
        "data"
      ],
      "execution_count": 0,
      "outputs": []
    },
    {
      "cell_type": "code",
      "metadata": {
        "id": "YT6EN1s8zVhj",
        "colab_type": "code",
        "colab": {}
      },
      "source": [
        "#Setting index\n",
        "data.index=['0','1','2']\n",
        "data\n"
      ],
      "execution_count": 0,
      "outputs": []
    },
    {
      "cell_type": "code",
      "metadata": {
        "id": "tuJ7EdO71Bj1",
        "colab_type": "code",
        "colab": {}
      },
      "source": [
        "#reading csv\n",
        "#data2=pd.reas_csv('csv file / cloud url',index_col=0)\n",
        "\n",
        "#Retrieve columns from dataframe\n",
        "print(data['Name'])\n",
        "print(data[['Name','Phone']])\n",
        "print(data[['Name','Phone','Age']])"
      ],
      "execution_count": 0,
      "outputs": []
    },
    {
      "cell_type": "code",
      "metadata": {
        "id": "pHKW8NA-4T0v",
        "colab_type": "code",
        "colab": {}
      },
      "source": [
        "#Printing rows/observstions\n",
        "data[0:1]#prints the first record\n"
      ],
      "execution_count": 0,
      "outputs": []
    },
    {
      "cell_type": "code",
      "metadata": {
        "id": "MDyXHBA15UfD",
        "colab_type": "code",
        "colab": {}
      },
      "source": [
        "#Labelled Indexing\n",
        "data.loc['0']"
      ],
      "execution_count": 0,
      "outputs": []
    },
    {
      "cell_type": "code",
      "metadata": {
        "id": "7zDOj1tp6z33",
        "colab_type": "code",
        "colab": {}
      },
      "source": [
        "#Integer Indexing\n",
        "data.iloc[0]"
      ],
      "execution_count": 0,
      "outputs": []
    },
    {
      "cell_type": "code",
      "metadata": {
        "id": "1oTXQA4k7ArY",
        "colab_type": "code",
        "colab": {}
      },
      "source": [
        "#Label Indexing: Row values\n",
        "data.loc[['0','1']]"
      ],
      "execution_count": 0,
      "outputs": []
    },
    {
      "cell_type": "code",
      "metadata": {
        "id": "IuhV0Y6U8meP",
        "colab_type": "code",
        "colab": {}
      },
      "source": [
        "#Integer Indexing: Row values\n",
        "data.iloc[['0','1']]"
      ],
      "execution_count": 0,
      "outputs": []
    },
    {
      "cell_type": "code",
      "metadata": {
        "id": "aoGaYsoy9P9S",
        "colab_type": "code",
        "colab": {}
      },
      "source": [
        "#Integer Indexing iloc\n",
        "\n",
        "#All rows(:) [comma separated Index of the columns]\n",
        "print(data.iloc[:,[1,2]])\n",
        "\n",
        "#Row numbers 1 & 2\n",
        "print(data.iloc[[1,2]])\n",
        "\n",
        "#All rows except the last one , [Comma separated Index of columns]\n",
        "print(data.iloc[:-1,[1,2]])"
      ],
      "execution_count": 0,
      "outputs": []
    },
    {
      "cell_type": "code",
      "metadata": {
        "id": "Cfp1MuNw_8uC",
        "colab_type": "code",
        "colab": {}
      },
      "source": [
        "#Adding Columns with data\n",
        "\n",
        "#As a list\n",
        "address_list=['Texas','New York','Seattle']\n",
        "\n",
        "#As a dict\n",
        "address_dict={'Texas':'Mark','New York':'Luke', 'Seattle':'John'}\n",
        "\n",
        "data['Address_dict']=address_dict\n",
        "data['Address_list']=address_list\n",
        "\n"
      ],
      "execution_count": 0,
      "outputs": []
    },
    {
      "cell_type": "code",
      "metadata": {
        "id": "5O9g_im6DZ67",
        "colab_type": "code",
        "colab": {}
      },
      "source": [
        "data"
      ],
      "execution_count": 0,
      "outputs": []
    },
    {
      "cell_type": "code",
      "metadata": {
        "id": "q6qKn48RJz-1",
        "colab_type": "code",
        "colab": {}
      },
      "source": [
        "#Adding a column\n",
        "data[\"Hourly Salary\"]=[30,28,34]\n",
        "\n",
        "#Change Name of a column\n",
        "\n",
        "\n",
        "\n",
        "#.columns\n",
        "print(\"data.columns :\")\n",
        "print(data.columns)\n",
        "\n",
        "#.head(n) Displays first n rows\n",
        "print(\"data.head() :\")\n",
        "print(data.head())\n",
        "\n",
        "#.tail(n) Displays last n rows\n",
        "print(\"data.tail() : \")\n",
        "print(data.tail())\n",
        "\n",
        "#.describe Retuens Statistical Details about the data\n",
        "print(\"data.describe() :\")\n",
        "print(data.describe())\n",
        "\n",
        "#.info()\n",
        "print(\"data.info():\")\n",
        "print(data.info())\n",
        "\n",
        "#.mean()\n",
        "print(\"data.mean() : \")\n",
        "print(data.mean())\n",
        "\n",
        "#.min()\n",
        "print(\"data.min() : \")\n",
        "print(data.min())\n",
        "\n",
        "#.max()\n",
        "print(\"data.max() : \")\n",
        "print(data.max())\n",
        "\n",
        "#.median()\n",
        "print(\"data.median() : \")\n",
        "print(data.median())\n",
        "\n",
        "#.mode()\n",
        "print(\"data.mode() : \")\n",
        "print(data.mode())\n",
        "\n",
        "#.corr Correlation between columns in the dataframe\n",
        "print(\"data.corr() :\")\n",
        "print(data.corr())\n",
        "\n"
      ],
      "execution_count": 0,
      "outputs": []
    },
    {
      "cell_type": "code",
      "metadata": {
        "id": "wCWpkzhRKloT",
        "colab_type": "code",
        "colab": {}
      },
      "source": [
        "#Merging Dataframes\n",
        "\n",
        "dict2={\"Name\":['James','Paul','Peter'],\"Age\":[38,24,40],\"Phone\":['121325622342','92536347873','65723491531']}\n",
        "address_dict={'Texas':'Paul','New York':'James', 'Seattle':'Peter'}\n",
        "address_list=['Texas','New York','Seattle']\n",
        "data2=pd.DataFrame(dict2)\n",
        "data2[\"Address_dict\"]=address_dict\n",
        "data2[\"Address_list\"]=address_list\n",
        "data2[\"Hourly Salary\"]=[50,82,45]\n",
        "data2\n",
        "\n",
        "#Merge Portion\n",
        "Merged_data=pd.concat([data,data2], ignore_index=True)\n",
        "Merged_data\n",
        "\n",
        "#Merge Variants, optional arguments\n",
        "#Merged_data=pd.merge([data,data2], on='Col_name, Eg: Address_list', how='inner/outer/..', left_on='Col_name', right_on='Col_name')\n",
        "#data.join(data2,on='col_name',how='inner') "
      ],
      "execution_count": 0,
      "outputs": []
    },
    {
      "cell_type": "code",
      "metadata": {
        "id": "lPMjmX7kQkah",
        "colab_type": "code",
        "colab": {}
      },
      "source": [
        "#Group By\n",
        "print(Merged_data.groupby(['Address_list']).mean())\n",
        "print(Merged_data.groupby(['Address_list','Age']).mean())\n",
        "\n",
        "#Sorting Values, Sorts the entire dataframe based on the column selected\n",
        "print(Merged_data.sort_values('Age'))\n",
        "print(Merged_data.sort_values('Age').mean())\n"
      ],
      "execution_count": 0,
      "outputs": []
    },
    {
      "cell_type": "code",
      "metadata": {
        "id": "7KuLHvhDSvKk",
        "colab_type": "code",
        "colab": {}
      },
      "source": [
        ""
      ],
      "execution_count": 0,
      "outputs": []
    }
  ]
}