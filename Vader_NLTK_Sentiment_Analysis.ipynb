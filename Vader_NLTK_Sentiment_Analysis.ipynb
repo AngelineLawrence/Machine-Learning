{
  "nbformat": 4,
  "nbformat_minor": 0,
  "metadata": {
    "colab": {
      "name": "Vader-NLTK Sentiment Analysis.ipynb",
      "provenance": [],
      "include_colab_link": true
    },
    "kernelspec": {
      "name": "python3",
      "display_name": "Python 3"
    }
  },
  "cells": [
    {
      "cell_type": "markdown",
      "metadata": {
        "id": "view-in-github",
        "colab_type": "text"
      },
      "source": [
        "<a href=\"https://colab.research.google.com/github/AngelineLawrence/Machine-Learning/blob/master/Vader_NLTK_Sentiment_Analysis.ipynb\" target=\"_parent\"><img src=\"https://colab.research.google.com/assets/colab-badge.svg\" alt=\"Open In Colab\"/></a>"
      ]
    },
    {
      "cell_type": "code",
      "metadata": {
        "id": "3AUr1aR49Gy1",
        "colab_type": "code",
        "colab": {}
      },
      "source": [
        "import nltk\n",
        "import pandas as pd"
      ],
      "execution_count": 0,
      "outputs": []
    },
    {
      "cell_type": "code",
      "metadata": {
        "id": "jJM-1RTo-yiH",
        "colab_type": "code",
        "outputId": "97c25e7e-6d52-436e-f129-9337479159fb",
        "colab": {
          "base_uri": "https://localhost:8080/",
          "height": 122
        }
      },
      "source": [
        "#!pip install nltk.sentiment.vader\n",
        "#nltk.downloader.download('sentimaent')\n",
        "!pip install vaderSentiment"
      ],
      "execution_count": 2,
      "outputs": [
        {
          "output_type": "stream",
          "text": [
            "Collecting vaderSentiment\n",
            "\u001b[?25l  Downloading https://files.pythonhosted.org/packages/86/9e/c53e1fc61aac5ee490a6ac5e21b1ac04e55a7c2aba647bb8411c9aadf24e/vaderSentiment-3.2.1-py2.py3-none-any.whl (125kB)\n",
            "\r\u001b[K     |██▋                             | 10kB 16.1MB/s eta 0:00:01\r\u001b[K     |█████▏                          | 20kB 6.4MB/s eta 0:00:01\r\u001b[K     |███████▉                        | 30kB 9.0MB/s eta 0:00:01\r\u001b[K     |██████████▍                     | 40kB 6.1MB/s eta 0:00:01\r\u001b[K     |█████████████                   | 51kB 7.3MB/s eta 0:00:01\r\u001b[K     |███████████████▋                | 61kB 8.6MB/s eta 0:00:01\r\u001b[K     |██████████████████▎             | 71kB 9.8MB/s eta 0:00:01\r\u001b[K     |████████████████████▉           | 81kB 11.0MB/s eta 0:00:01\r\u001b[K     |███████████████████████▍        | 92kB 12.2MB/s eta 0:00:01\r\u001b[K     |██████████████████████████      | 102kB 9.6MB/s eta 0:00:01\r\u001b[K     |████████████████████████████▋   | 112kB 9.6MB/s eta 0:00:01\r\u001b[K     |███████████████████████████████▎| 122kB 9.6MB/s eta 0:00:01\r\u001b[K     |████████████████████████████████| 133kB 9.6MB/s \n",
            "\u001b[?25hInstalling collected packages: vaderSentiment\n",
            "Successfully installed vaderSentiment-3.2.1\n"
          ],
          "name": "stdout"
        }
      ]
    },
    {
      "cell_type": "code",
      "metadata": {
        "id": "y3881GNtCkz5",
        "colab_type": "code",
        "colab": {}
      },
      "source": [
        "#from vaderSentiment.vaderSentiment import SentimentIntensityAnalyser\n",
        "import vaderSentiment.vaderSentiment as vs"
      ],
      "execution_count": 0,
      "outputs": []
    },
    {
      "cell_type": "code",
      "metadata": {
        "id": "W19xCXt3Evh_",
        "colab_type": "code",
        "colab": {}
      },
      "source": [
        "analyser=vs.SentimentIntensityAnalyzer()\n",
        "column_values=['Negative','Neutral','Positive','Compound']\n"
      ],
      "execution_count": 0,
      "outputs": []
    },
    {
      "cell_type": "code",
      "metadata": {
        "id": "lO-CDNqGFh2q",
        "colab_type": "code",
        "colab": {}
      },
      "source": [
        "def sentiment_analyser_scores(sentences):\n",
        "  scores=analyser.polarity_scores(sentences)\n",
        "  print(\"{:-<40} {}\".format(sentences, str(scores)))\n",
        "  s=str(scores)\n",
        "  list_score=s.split(\",\")\n",
        "  "
      ],
      "execution_count": 0,
      "outputs": []
    },
    {
      "cell_type": "code",
      "metadata": {
        "id": "nX8Ptf8tGuWL",
        "colab_type": "code",
        "outputId": "bd7113fc-d08d-402d-e66a-c55449dd37a8",
        "colab": {
          "base_uri": "https://localhost:8080/",
          "height": 85
        }
      },
      "source": [
        "sentiment_analyser_scores(\"The phone is super cool.\")\n",
        "sentiment_analyser_scores(\"The phone is super cool!\")\n",
        "#Vader recoginzes smilies as well. The sentiment scores vary based on that.\n",
        "sentiment_analyser_scores(\"The weather is good today :)\")\n",
        "sentiment_analyser_scores(\"The weather is good today.\")"
      ],
      "execution_count": 7,
      "outputs": [
        {
          "output_type": "stream",
          "text": [
            "The phone is super cool.---------------- {'neg': 0.0, 'neu': 0.326, 'pos': 0.674, 'compound': 0.7351}\n",
            "The phone is super cool!---------------- {'neg': 0.0, 'neu': 0.316, 'pos': 0.684, 'compound': 0.7574}\n",
            "The weather is good today :)------------ {'neg': 0.0, 'neu': 0.404, 'pos': 0.596, 'compound': 0.7096}\n",
            "The weather is good today.-------------- {'neg': 0.0, 'neu': 0.58, 'pos': 0.42, 'compound': 0.4404}\n"
          ],
          "name": "stdout"
        }
      ]
    },
    {
      "cell_type": "code",
      "metadata": {
        "id": "YHTcSW6tHCHI",
        "colab_type": "code",
        "colab": {}
      },
      "source": [
        ""
      ],
      "execution_count": 0,
      "outputs": []
    },
    {
      "cell_type": "code",
      "metadata": {
        "id": "JiucUt4kGxco",
        "colab_type": "code",
        "colab": {}
      },
      "source": [
        ""
      ],
      "execution_count": 0,
      "outputs": []
    }
  ]
}
